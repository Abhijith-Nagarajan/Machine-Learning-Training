{
 "cells": [
  {
   "cell_type": "markdown",
   "id": "015a1d24",
   "metadata": {},
   "source": [
    "### Implementing Sentiment Analysis for the Machine Hack Hackathon using the Tf-IDF model"
   ]
  },
  {
   "cell_type": "markdown",
   "id": "9181e8f1",
   "metadata": {},
   "source": [
    "#### Importing the necessary libraries"
   ]
  },
  {
   "cell_type": "code",
   "execution_count": 1,
   "id": "2d3cde7b",
   "metadata": {},
   "outputs": [],
   "source": [
    "import pandas as pd\n",
    "import numpy as np\n",
    "import matplotlib.pyplot as plt"
   ]
  },
  {
   "cell_type": "code",
   "execution_count": 2,
   "id": "365e1cae",
   "metadata": {},
   "outputs": [],
   "source": [
    "twitter_df = pd.read_csv(\"train.csv\")"
   ]
  },
  {
   "cell_type": "code",
   "execution_count": 3,
   "id": "2e420538",
   "metadata": {},
   "outputs": [
    {
     "name": "stdout",
     "output_type": "stream",
     "text": [
      "<class 'pandas.core.frame.DataFrame'>\n",
      "RangeIndex: 44100 entries, 0 to 44099\n",
      "Data columns (total 4 columns):\n",
      " #   Column     Non-Null Count  Dtype \n",
      "---  ------     --------------  ----- \n",
      " 0   ID         44100 non-null  int64 \n",
      " 1   author     44100 non-null  object\n",
      " 2   Review     44100 non-null  object\n",
      " 3   Sentiment  44100 non-null  int64 \n",
      "dtypes: int64(2), object(2)\n",
      "memory usage: 1.3+ MB\n"
     ]
    }
   ],
   "source": [
    "twitter_df.info()"
   ]
  },
  {
   "cell_type": "code",
   "execution_count": 4,
   "id": "77631534",
   "metadata": {},
   "outputs": [
    {
     "data": {
      "text/html": [
       "<div>\n",
       "<style scoped>\n",
       "    .dataframe tbody tr th:only-of-type {\n",
       "        vertical-align: middle;\n",
       "    }\n",
       "\n",
       "    .dataframe tbody tr th {\n",
       "        vertical-align: top;\n",
       "    }\n",
       "\n",
       "    .dataframe thead th {\n",
       "        text-align: right;\n",
       "    }\n",
       "</style>\n",
       "<table border=\"1\" class=\"dataframe\">\n",
       "  <thead>\n",
       "    <tr style=\"text-align: right;\">\n",
       "      <th></th>\n",
       "      <th>ID</th>\n",
       "      <th>author</th>\n",
       "      <th>Review</th>\n",
       "      <th>Sentiment</th>\n",
       "    </tr>\n",
       "  </thead>\n",
       "  <tbody>\n",
       "    <tr>\n",
       "      <th>0</th>\n",
       "      <td>39467</td>\n",
       "      <td>rayinstirling</td>\n",
       "      <td>Today I'm working on my &amp;quot;Quirky Q&amp;quot; c...</td>\n",
       "      <td>2</td>\n",
       "    </tr>\n",
       "    <tr>\n",
       "      <th>1</th>\n",
       "      <td>30154</td>\n",
       "      <td>DirtyRose17</td>\n",
       "      <td>@ShannonElizab dont ya know? people love the h...</td>\n",
       "      <td>1</td>\n",
       "    </tr>\n",
       "    <tr>\n",
       "      <th>2</th>\n",
       "      <td>16767</td>\n",
       "      <td>yoliemichelle</td>\n",
       "      <td>ughhh rejected from the 09 mediation program. ...</td>\n",
       "      <td>0</td>\n",
       "    </tr>\n",
       "    <tr>\n",
       "      <th>3</th>\n",
       "      <td>9334</td>\n",
       "      <td>jayamelwani</td>\n",
       "      <td>@petewentz im so jealous. i want an octo drive</td>\n",
       "      <td>0</td>\n",
       "    </tr>\n",
       "    <tr>\n",
       "      <th>4</th>\n",
       "      <td>61178</td>\n",
       "      <td>aliisanoun</td>\n",
       "      <td>I remember all the hype around this movie when...</td>\n",
       "      <td>0</td>\n",
       "    </tr>\n",
       "    <tr>\n",
       "      <th>5</th>\n",
       "      <td>54688</td>\n",
       "      <td>empressjazzy1</td>\n",
       "      <td>I liked this quite a bit but I have friends th...</td>\n",
       "      <td>2</td>\n",
       "    </tr>\n",
       "    <tr>\n",
       "      <th>6</th>\n",
       "      <td>34838</td>\n",
       "      <td>lorrief</td>\n",
       "      <td>loving that spring definitely seems to be here...</td>\n",
       "      <td>2</td>\n",
       "    </tr>\n",
       "    <tr>\n",
       "      <th>7</th>\n",
       "      <td>28520</td>\n",
       "      <td>GE0RGIE</td>\n",
       "      <td>@jeg007jeg yay  coutch:couch</td>\n",
       "      <td>2</td>\n",
       "    </tr>\n",
       "    <tr>\n",
       "      <th>8</th>\n",
       "      <td>31974</td>\n",
       "      <td>BrandonCarlson</td>\n",
       "      <td>Working on the store's Facebook group, getting...</td>\n",
       "      <td>2</td>\n",
       "    </tr>\n",
       "    <tr>\n",
       "      <th>9</th>\n",
       "      <td>14323</td>\n",
       "      <td>allshookup</td>\n",
       "      <td>@falselove OH THAT'S GOOD! My top 4 are: The H...</td>\n",
       "      <td>0</td>\n",
       "    </tr>\n",
       "  </tbody>\n",
       "</table>\n",
       "</div>"
      ],
      "text/plain": [
       "      ID          author                                             Review  \\\n",
       "0  39467   rayinstirling  Today I'm working on my &quot;Quirky Q&quot; c...   \n",
       "1  30154     DirtyRose17  @ShannonElizab dont ya know? people love the h...   \n",
       "2  16767   yoliemichelle  ughhh rejected from the 09 mediation program. ...   \n",
       "3   9334     jayamelwani     @petewentz im so jealous. i want an octo drive   \n",
       "4  61178      aliisanoun  I remember all the hype around this movie when...   \n",
       "5  54688   empressjazzy1  I liked this quite a bit but I have friends th...   \n",
       "6  34838         lorrief  loving that spring definitely seems to be here...   \n",
       "7  28520         GE0RGIE                       @jeg007jeg yay  coutch:couch   \n",
       "8  31974  BrandonCarlson  Working on the store's Facebook group, getting...   \n",
       "9  14323      allshookup  @falselove OH THAT'S GOOD! My top 4 are: The H...   \n",
       "\n",
       "   Sentiment  \n",
       "0          2  \n",
       "1          1  \n",
       "2          0  \n",
       "3          0  \n",
       "4          0  \n",
       "5          2  \n",
       "6          2  \n",
       "7          2  \n",
       "8          2  \n",
       "9          0  "
      ]
     },
     "execution_count": 4,
     "metadata": {},
     "output_type": "execute_result"
    }
   ],
   "source": [
    "twitter_df.head(10)"
   ]
  },
  {
   "cell_type": "markdown",
   "id": "124e0080",
   "metadata": {},
   "source": [
    "It can be seen that data cleaning is required. This is because:\n",
    "- Some reviews have the user's info seen as: @username\n",
    "- There are words which do not necessarily contribute to the sentiment expressed."
   ]
  },
  {
   "cell_type": "code",
   "execution_count": 5,
   "id": "186323e1",
   "metadata": {},
   "outputs": [],
   "source": [
    "import nltk"
   ]
  },
  {
   "cell_type": "code",
   "execution_count": 8,
   "id": "743b7600",
   "metadata": {},
   "outputs": [],
   "source": [
    "from nltk.corpus import stopwords"
   ]
  },
  {
   "cell_type": "code",
   "execution_count": 9,
   "id": "6211f951",
   "metadata": {},
   "outputs": [],
   "source": [
    "corpus = []"
   ]
  },
  {
   "cell_type": "code",
   "execution_count": 10,
   "id": "3a447e51",
   "metadata": {},
   "outputs": [],
   "source": [
    "review_series = twitter_df[\"Review\"]"
   ]
  },
  {
   "cell_type": "markdown",
   "id": "0ebc0c67",
   "metadata": {},
   "source": [
    "#### Starting with the text cleaning and following these steps:\n",
    "1) Converting all data to lower case<br>\n",
    "2) Removing punctuations<br>\n",
    "3) Removing HTML tags<br>\n",
    "4) Removing stopwords<br>\n",
    "5) Performing lemmatization<br>\n",
    "> a) Using Spacy lemmatizer<br>\n",
    "> b) Using textblob lemmatizer\n",
    " "
   ]
  },
  {
   "cell_type": "code",
   "execution_count": 11,
   "id": "58c57d03",
   "metadata": {},
   "outputs": [],
   "source": [
    "review_series = review_series.str.lower()"
   ]
  },
  {
   "cell_type": "code",
   "execution_count": 19,
   "id": "73324363",
   "metadata": {},
   "outputs": [],
   "source": [
    "import string\n",
    "import re"
   ]
  },
  {
   "cell_type": "code",
   "execution_count": 13,
   "id": "757e28b7",
   "metadata": {},
   "outputs": [],
   "source": [
    "punctuations = string.punctuation"
   ]
  },
  {
   "cell_type": "code",
   "execution_count": 14,
   "id": "30826636",
   "metadata": {},
   "outputs": [],
   "source": [
    "def remove_punctuations(review):\n",
    "    return review.translate(str.maketrans('','',punctuations))"
   ]
  },
  {
   "cell_type": "code",
   "execution_count": 15,
   "id": "e7e0f1ae",
   "metadata": {},
   "outputs": [],
   "source": [
    "review_series = review_series.apply(lambda review: remove_punctuations(review))"
   ]
  },
  {
   "cell_type": "code",
   "execution_count": 16,
   "id": "a6ca454f",
   "metadata": {},
   "outputs": [
    {
     "data": {
      "text/plain": [
       "0        today im working on my quotquirky qquot cue or...\n",
       "1        shannonelizab dont ya know people love the hum...\n",
       "2        ughhh rejected from the 09 mediation program s...\n",
       "3             petewentz im so jealous i want an octo drive\n",
       "4        i remember all the hype around this movie when...\n",
       "                               ...                        \n",
       "44095    the mother is a weird lowbudget movie touching...\n",
       "44096    it started off weird the middle was weird and ...\n",
       "44097    i was amazed at the quick arrival of the two o...\n",
       "44098    attractive marjoriefarrah fawcettlives in fear...\n",
       "44099    refugee me gets quotyour video will start in 1...\n",
       "Name: Review, Length: 44100, dtype: object"
      ]
     },
     "execution_count": 16,
     "metadata": {},
     "output_type": "execute_result"
    }
   ],
   "source": [
    "review_series"
   ]
  },
  {
   "cell_type": "code",
   "execution_count": 17,
   "id": "e640d0e4",
   "metadata": {},
   "outputs": [],
   "source": [
    "def remove_html_tags(review):\n",
    "    review = re.sub('<.*?>','',review)\n",
    "    return review"
   ]
  },
  {
   "cell_type": "code",
   "execution_count": 20,
   "id": "314f0214",
   "metadata": {},
   "outputs": [],
   "source": [
    "review_series = review_series.apply(lambda review:remove_html_tags(review))"
   ]
  },
  {
   "cell_type": "markdown",
   "id": "854f1ab6",
   "metadata": {},
   "source": [
    "#### Instead of performing steps 4 and 5 separately, they will be combined in such a way that words not part of the stopwords will be lemmatized and retained."
   ]
  },
  {
   "cell_type": "code",
   "execution_count": 21,
   "id": "ecf7b747",
   "metadata": {},
   "outputs": [],
   "source": [
    "import spacy"
   ]
  },
  {
   "cell_type": "markdown",
   "id": "89384adc",
   "metadata": {},
   "source": [
    "!pip install textblob"
   ]
  },
  {
   "cell_type": "code",
   "execution_count": 22,
   "id": "1b8d5ec3",
   "metadata": {},
   "outputs": [],
   "source": [
    "from textblob import TextBlob,Word"
   ]
  },
  {
   "cell_type": "markdown",
   "id": "b904dda1",
   "metadata": {},
   "source": [
    "#### Performing lemmatization with spacy"
   ]
  },
  {
   "cell_type": "code",
   "execution_count": 23,
   "id": "1a8fb154",
   "metadata": {},
   "outputs": [],
   "source": [
    "import en_core_web_sm\n",
    "\n",
    "nlp = en_core_web_sm.load()"
   ]
  },
  {
   "cell_type": "code",
   "execution_count": 25,
   "id": "147dbcb4",
   "metadata": {},
   "outputs": [],
   "source": [
    "def remove_stopwords_and_lemmatize_spacy(review):\n",
    "    doc = nlp(review)\n",
    "    return \" \".join([token.lemma_ for token in doc if token not in set(stopwords.words('english'))])"
   ]
  },
  {
   "cell_type": "code",
   "execution_count": 26,
   "id": "32db32ba",
   "metadata": {},
   "outputs": [],
   "source": [
    "review_series = review_series.apply(lambda review: remove_stopwords_and_lemmatize_spacy(review)) "
   ]
  },
  {
   "cell_type": "code",
   "execution_count": 27,
   "id": "6a382f0e",
   "metadata": {},
   "outputs": [
    {
     "data": {
      "text/plain": [
       "0        today -PRON- be work on -PRON- quotquirky qquo...\n",
       "1        shannonelizab do not ya know people love the h...\n",
       "2        ughhh reject from the 09 mediation program suc...\n",
       "3        petewentz -PRON- be so jealous i want an octo ...\n",
       "4        i remember all the hype around this movie when...\n",
       "                               ...                        \n",
       "44095    the mother be a weird lowbudget movie touch at...\n",
       "44096    -PRON- start off weird the middle be weird and...\n",
       "44097    i be amazed at the quick arrival of the two or...\n",
       "44098    attractive marjoriefarrah fawcettlive in fear ...\n",
       "44099    refugee -PRON- get quotyour video will start i...\n",
       "Name: Review, Length: 44100, dtype: object"
      ]
     },
     "execution_count": 27,
     "metadata": {},
     "output_type": "execute_result"
    }
   ],
   "source": [
    "review_series"
   ]
  },
  {
   "cell_type": "markdown",
   "id": "02d20c1c",
   "metadata": {},
   "source": [
    "#### Performing word-embeddings with TfIDF"
   ]
  },
  {
   "cell_type": "code",
   "execution_count": null,
   "id": "3464447f",
   "metadata": {},
   "outputs": [],
   "source": []
  }
 ],
 "metadata": {
  "kernelspec": {
   "display_name": "Python 3",
   "language": "python",
   "name": "python3"
  },
  "language_info": {
   "codemirror_mode": {
    "name": "ipython",
    "version": 3
   },
   "file_extension": ".py",
   "mimetype": "text/x-python",
   "name": "python",
   "nbconvert_exporter": "python",
   "pygments_lexer": "ipython3",
   "version": "3.7.10"
  }
 },
 "nbformat": 4,
 "nbformat_minor": 5
}
