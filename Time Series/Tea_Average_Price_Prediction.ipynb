{
 "cells": [
  {
   "cell_type": "code",
   "execution_count": 1,
   "id": "ecda22f6",
   "metadata": {},
   "outputs": [],
   "source": [
    "import pandas as pd\n",
    "import numpy as np\n",
    "import matplotlib.pyplot as plt\n",
    "import seaborn as sns"
   ]
  },
  {
   "cell_type": "code",
   "execution_count": 2,
   "id": "aea8bc57",
   "metadata": {},
   "outputs": [],
   "source": [
    "tea_df = pd.read_csv(\"train.csv\")"
   ]
  },
  {
   "cell_type": "code",
   "execution_count": 3,
   "id": "91e3a7dc",
   "metadata": {},
   "outputs": [
    {
     "data": {
      "text/html": [
       "<div>\n",
       "<style scoped>\n",
       "    .dataframe tbody tr th:only-of-type {\n",
       "        vertical-align: middle;\n",
       "    }\n",
       "\n",
       "    .dataframe tbody tr th {\n",
       "        vertical-align: top;\n",
       "    }\n",
       "\n",
       "    .dataframe thead th {\n",
       "        text-align: right;\n",
       "    }\n",
       "</style>\n",
       "<table border=\"1\" class=\"dataframe\">\n",
       "  <thead>\n",
       "    <tr style=\"text-align: right;\">\n",
       "      <th></th>\n",
       "      <th>WeekEnding_Date</th>\n",
       "      <th>Kolkata_Average_Price</th>\n",
       "      <th>Kolkata_Ref_Price</th>\n",
       "      <th>Bangalore_Average_Price</th>\n",
       "      <th>Bangalore_Ref_Price</th>\n",
       "      <th>Cochin_Average_Price</th>\n",
       "      <th>Cochin_Ref_Price</th>\n",
       "      <th>Darjeeling_Average_Price</th>\n",
       "      <th>Darjeeling_Ref_Price</th>\n",
       "      <th>Ernakulam_Average_Price</th>\n",
       "      <th>Ernakulam_Ref_Price</th>\n",
       "      <th>Siliguri_Average_Price</th>\n",
       "      <th>Siliguri_Ref_Price</th>\n",
       "      <th>Guwahati_Average_Price</th>\n",
       "      <th>Guwahati_Ref_Price</th>\n",
       "      <th>Average</th>\n",
       "    </tr>\n",
       "  </thead>\n",
       "  <tbody>\n",
       "    <tr>\n",
       "      <th>0</th>\n",
       "      <td>03/01/09</td>\n",
       "      <td>99.01</td>\n",
       "      <td>79.79</td>\n",
       "      <td>N.S.</td>\n",
       "      <td>76.19</td>\n",
       "      <td>84.02</td>\n",
       "      <td>70.07</td>\n",
       "      <td>81.66</td>\n",
       "      <td>57.83</td>\n",
       "      <td>68.94</td>\n",
       "      <td>51.67</td>\n",
       "      <td>70.74</td>\n",
       "      <td>53.88</td>\n",
       "      <td>65.55</td>\n",
       "      <td>46.75</td>\n",
       "      <td>69.700000</td>\n",
       "    </tr>\n",
       "    <tr>\n",
       "      <th>1</th>\n",
       "      <td>10/01/09</td>\n",
       "      <td>97.74</td>\n",
       "      <td>78.73</td>\n",
       "      <td>87.48</td>\n",
       "      <td>73.97</td>\n",
       "      <td>82.72</td>\n",
       "      <td>68.17</td>\n",
       "      <td>83.31</td>\n",
       "      <td>58.02</td>\n",
       "      <td>67.24</td>\n",
       "      <td>52.23</td>\n",
       "      <td>70.47</td>\n",
       "      <td>53.39</td>\n",
       "      <td>67.39</td>\n",
       "      <td>46.84</td>\n",
       "      <td>70.550000</td>\n",
       "    </tr>\n",
       "    <tr>\n",
       "      <th>2</th>\n",
       "      <td>17/01/09</td>\n",
       "      <td>95.95</td>\n",
       "      <td>71.01</td>\n",
       "      <td>87.66</td>\n",
       "      <td>71.01</td>\n",
       "      <td>80.58</td>\n",
       "      <td>67.16</td>\n",
       "      <td>82.25</td>\n",
       "      <td>57.49</td>\n",
       "      <td>69.64</td>\n",
       "      <td>52.48</td>\n",
       "      <td>71.66</td>\n",
       "      <td>53.18</td>\n",
       "      <td>69.51</td>\n",
       "      <td>48.04</td>\n",
       "      <td>69.830000</td>\n",
       "    </tr>\n",
       "    <tr>\n",
       "      <th>3</th>\n",
       "      <td>24/01/09</td>\n",
       "      <td>94.14</td>\n",
       "      <td>73.38</td>\n",
       "      <td>85.69</td>\n",
       "      <td>65.66</td>\n",
       "      <td>N.S.</td>\n",
       "      <td>65.57</td>\n",
       "      <td>80.87</td>\n",
       "      <td>54.59</td>\n",
       "      <td>N.S.</td>\n",
       "      <td>53.43</td>\n",
       "      <td>71.12</td>\n",
       "      <td>52.07</td>\n",
       "      <td>69.14</td>\n",
       "      <td>48.5</td>\n",
       "      <td>67.846667</td>\n",
       "    </tr>\n",
       "    <tr>\n",
       "      <th>4</th>\n",
       "      <td>31/01/09</td>\n",
       "      <td>91.45</td>\n",
       "      <td>70.39</td>\n",
       "      <td>N.S.</td>\n",
       "      <td>64.99</td>\n",
       "      <td>79.27</td>\n",
       "      <td>62.09</td>\n",
       "      <td>80.76</td>\n",
       "      <td>57.06</td>\n",
       "      <td>69.65</td>\n",
       "      <td>53.38</td>\n",
       "      <td>72.3</td>\n",
       "      <td>52.5</td>\n",
       "      <td>69.39</td>\n",
       "      <td>50.33</td>\n",
       "      <td>67.196923</td>\n",
       "    </tr>\n",
       "  </tbody>\n",
       "</table>\n",
       "</div>"
      ],
      "text/plain": [
       "  WeekEnding_Date Kolkata_Average_Price Kolkata_Ref_Price  \\\n",
       "0        03/01/09                 99.01             79.79   \n",
       "1        10/01/09                 97.74             78.73   \n",
       "2        17/01/09                 95.95             71.01   \n",
       "3        24/01/09                 94.14             73.38   \n",
       "4        31/01/09                 91.45             70.39   \n",
       "\n",
       "  Bangalore_Average_Price Bangalore_Ref_Price Cochin_Average_Price  \\\n",
       "0                    N.S.               76.19                84.02   \n",
       "1                   87.48               73.97                82.72   \n",
       "2                   87.66               71.01                80.58   \n",
       "3                   85.69               65.66                 N.S.   \n",
       "4                    N.S.               64.99                79.27   \n",
       "\n",
       "  Cochin_Ref_Price Darjeeling_Average_Price Darjeeling_Ref_Price  \\\n",
       "0            70.07                    81.66                57.83   \n",
       "1            68.17                    83.31                58.02   \n",
       "2            67.16                    82.25                57.49   \n",
       "3            65.57                    80.87                54.59   \n",
       "4            62.09                    80.76                57.06   \n",
       "\n",
       "  Ernakulam_Average_Price Ernakulam_Ref_Price Siliguri_Average_Price  \\\n",
       "0                   68.94               51.67                  70.74   \n",
       "1                   67.24               52.23                  70.47   \n",
       "2                   69.64               52.48                  71.66   \n",
       "3                    N.S.               53.43                  71.12   \n",
       "4                   69.65               53.38                   72.3   \n",
       "\n",
       "  Siliguri_Ref_Price Guwahati_Average_Price Guwahati_Ref_Price    Average  \n",
       "0              53.88                  65.55              46.75  69.700000  \n",
       "1              53.39                  67.39              46.84  70.550000  \n",
       "2              53.18                  69.51              48.04  69.830000  \n",
       "3              52.07                  69.14               48.5  67.846667  \n",
       "4               52.5                  69.39              50.33  67.196923  "
      ]
     },
     "execution_count": 3,
     "metadata": {},
     "output_type": "execute_result"
    }
   ],
   "source": [
    "tea_df.head()"
   ]
  },
  {
   "cell_type": "code",
   "execution_count": 4,
   "id": "7eb7c6bf",
   "metadata": {},
   "outputs": [
    {
     "name": "stdout",
     "output_type": "stream",
     "text": [
      "<class 'pandas.core.frame.DataFrame'>\n",
      "RangeIndex: 544 entries, 0 to 543\n",
      "Data columns (total 16 columns):\n",
      " #   Column                    Non-Null Count  Dtype  \n",
      "---  ------                    --------------  -----  \n",
      " 0   WeekEnding_Date           544 non-null    object \n",
      " 1   Kolkata_Average_Price     544 non-null    object \n",
      " 2   Kolkata_Ref_Price         542 non-null    object \n",
      " 3   Bangalore_Average_Price   544 non-null    object \n",
      " 4   Bangalore_Ref_Price       542 non-null    object \n",
      " 5   Cochin_Average_Price      544 non-null    object \n",
      " 6   Cochin_Ref_Price          541 non-null    object \n",
      " 7   Darjeeling_Average_Price  544 non-null    object \n",
      " 8   Darjeeling_Ref_Price      542 non-null    object \n",
      " 9   Ernakulam_Average_Price   544 non-null    object \n",
      " 10  Ernakulam_Ref_Price       543 non-null    object \n",
      " 11  Siliguri_Average_Price    543 non-null    object \n",
      " 12  Siliguri_Ref_Price        543 non-null    object \n",
      " 13  Guwahati_Average_Price    544 non-null    object \n",
      " 14  Guwahati_Ref_Price        544 non-null    object \n",
      " 15  Average                   544 non-null    float64\n",
      "dtypes: float64(1), object(15)\n",
      "memory usage: 68.1+ KB\n"
     ]
    }
   ],
   "source": [
    "tea_df.info()"
   ]
  },
  {
   "cell_type": "markdown",
   "id": "990915d2",
   "metadata": {},
   "source": [
    "#### It can be noticed that some of the features have missing data, depicted either as N.S. or no sale, or is empty. These missing values can be replaced with 0, indicating that no sale has been made. We also have to check if there are other ways of representing no sale data, wrt different abbreviations used."
   ]
  },
  {
   "cell_type": "code",
   "execution_count": 5,
   "id": "8264db2f",
   "metadata": {},
   "outputs": [],
   "source": [
    "numeric_columns = [col for col in tea_df.columns if col!='WeekEnding_Date' and col!='Average']"
   ]
  },
  {
   "cell_type": "code",
   "execution_count": 6,
   "id": "0d943796",
   "metadata": {},
   "outputs": [
    {
     "data": {
      "text/plain": [
       "['Kolkata_Average_Price',\n",
       " 'Kolkata_Ref_Price',\n",
       " 'Bangalore_Average_Price',\n",
       " 'Bangalore_Ref_Price',\n",
       " 'Cochin_Average_Price',\n",
       " 'Cochin_Ref_Price',\n",
       " 'Darjeeling_Average_Price',\n",
       " 'Darjeeling_Ref_Price',\n",
       " 'Ernakulam_Average_Price',\n",
       " 'Ernakulam_Ref_Price',\n",
       " 'Siliguri_Average_Price',\n",
       " 'Siliguri_Ref_Price',\n",
       " 'Guwahati_Average_Price',\n",
       " 'Guwahati_Ref_Price']"
      ]
     },
     "execution_count": 6,
     "metadata": {},
     "output_type": "execute_result"
    }
   ],
   "source": [
    "numeric_columns"
   ]
  },
  {
   "cell_type": "code",
   "execution_count": 7,
   "id": "a5f28e1d",
   "metadata": {},
   "outputs": [],
   "source": [
    "def convert_numeric(avg_price):\n",
    "    try:\n",
    "        return pd.to_numeric(avg_price)\n",
    "    except:\n",
    "        return avg_price"
   ]
  },
  {
   "cell_type": "code",
   "execution_count": 8,
   "id": "5ae3e555",
   "metadata": {},
   "outputs": [
    {
     "name": "stdout",
     "output_type": "stream",
     "text": [
      "Total String values for column Kolkata_Average_Price:\n",
      "False    40\n",
      "Name: Kolkata_Average_Price, dtype: int64\n",
      "\n",
      "Total String values for column Kolkata_Ref_Price:\n",
      "False    40\n",
      "Name: Kolkata_Ref_Price, dtype: int64\n",
      "\n",
      "Total String values for column Bangalore_Average_Price:\n",
      "False    47\n",
      "Name: Bangalore_Average_Price, dtype: int64\n",
      "\n",
      "Total String values for column Bangalore_Ref_Price:\n",
      "False    47\n",
      "Name: Bangalore_Ref_Price, dtype: int64\n",
      "\n",
      "Total String values for column Cochin_Average_Price:\n",
      "False    45\n",
      "Name: Cochin_Average_Price, dtype: int64\n",
      "\n",
      "Total String values for column Cochin_Ref_Price:\n",
      "False    46\n",
      "Name: Cochin_Ref_Price, dtype: int64\n",
      "\n",
      "Total String values for column Darjeeling_Average_Price:\n",
      "False    37\n",
      "Name: Darjeeling_Average_Price, dtype: int64\n",
      "\n",
      "Total String values for column Darjeeling_Ref_Price:\n",
      "False    36\n",
      "Name: Darjeeling_Ref_Price, dtype: int64\n",
      "\n",
      "Total String values for column Ernakulam_Average_Price:\n",
      "False    15\n",
      "Name: Ernakulam_Average_Price, dtype: int64\n",
      "\n",
      "Total String values for column Ernakulam_Ref_Price:\n",
      "False    16\n",
      "Name: Ernakulam_Ref_Price, dtype: int64\n",
      "\n",
      "Total String values for column Siliguri_Average_Price:\n",
      "False    20\n",
      "Name: Siliguri_Average_Price, dtype: int64\n",
      "\n",
      "Total String values for column Siliguri_Ref_Price:\n",
      "False    22\n",
      "Name: Siliguri_Ref_Price, dtype: int64\n",
      "\n",
      "Total String values for column Guwahati_Average_Price:\n",
      "False    9\n",
      "Name: Guwahati_Average_Price, dtype: int64\n",
      "\n",
      "Total String values for column Guwahati_Ref_Price:\n",
      "False    9\n",
      "Name: Guwahati_Ref_Price, dtype: int64\n",
      "\n"
     ]
    }
   ],
   "source": [
    "for col in numeric_columns:\n",
    "    tea_df[col] = tea_df[col].apply(lambda price: convert_numeric(price))\n",
    "    print(f\"Total String values for column {col}:\\n{tea_df[col].str.isnumeric().value_counts()}\\n\")"
   ]
  },
  {
   "cell_type": "code",
   "execution_count": 9,
   "id": "8be696e1",
   "metadata": {},
   "outputs": [],
   "source": [
    "def check_for_False(col,index):\n",
    "    try:\n",
    "        if tea_df[col][index].isnumeric()==False:\n",
    "            return True\n",
    "    except:\n",
    "        return False"
   ]
  },
  {
   "cell_type": "code",
   "execution_count": 10,
   "id": "e65b781b",
   "metadata": {},
   "outputs": [],
   "source": [
    "categorical_data = []\n",
    "for col in numeric_columns:\n",
    "    for index in range(len(tea_df)):\n",
    "        if check_for_False(col,index):\n",
    "            if tea_df[col][index] not in categorical_data:\n",
    "                categorical_data.append(tea_df[col][index])"
   ]
  },
  {
   "cell_type": "code",
   "execution_count": 11,
   "id": "5bcb30af",
   "metadata": {},
   "outputs": [
    {
     "data": {
      "text/plain": [
       "['No Sale', 'N.S.', 'N.S', 'NS', 'N. S.', 'No sale', 'N.S.\\xa0', 'NS85.07']"
      ]
     },
     "execution_count": 11,
     "metadata": {},
     "output_type": "execute_result"
    }
   ],
   "source": [
    "categorical_data"
   ]
  },
  {
   "cell_type": "markdown",
   "id": "55c028f2",
   "metadata": {},
   "source": [
    "#### Now that the different unique abbreviations have been identified, they can be replaced with 0. The same with missing values as well."
   ]
  },
  {
   "cell_type": "code",
   "execution_count": 12,
   "id": "28e864ee",
   "metadata": {},
   "outputs": [],
   "source": [
    "tea_df.replace(to_replace = categorical_data,value = \"0.0\",inplace = True)"
   ]
  },
  {
   "cell_type": "code",
   "execution_count": 13,
   "id": "66924f4f",
   "metadata": {},
   "outputs": [],
   "source": [
    "tea_df = tea_df.fillna(\"0.0\")"
   ]
  },
  {
   "cell_type": "code",
   "execution_count": 14,
   "id": "f00cf969",
   "metadata": {},
   "outputs": [
    {
     "data": {
      "text/plain": [
       "WeekEnding_Date             0\n",
       "Kolkata_Average_Price       0\n",
       "Kolkata_Ref_Price           0\n",
       "Bangalore_Average_Price     0\n",
       "Bangalore_Ref_Price         0\n",
       "Cochin_Average_Price        0\n",
       "Cochin_Ref_Price            0\n",
       "Darjeeling_Average_Price    0\n",
       "Darjeeling_Ref_Price        0\n",
       "Ernakulam_Average_Price     0\n",
       "Ernakulam_Ref_Price         0\n",
       "Siliguri_Average_Price      0\n",
       "Siliguri_Ref_Price          0\n",
       "Guwahati_Average_Price      0\n",
       "Guwahati_Ref_Price          0\n",
       "Average                     0\n",
       "dtype: int64"
      ]
     },
     "execution_count": 14,
     "metadata": {},
     "output_type": "execute_result"
    }
   ],
   "source": [
    "tea_df.isnull().sum()"
   ]
  },
  {
   "cell_type": "markdown",
   "id": "a22ef5be",
   "metadata": {},
   "source": [
    "#### One more task remaining is to convert the datatype of WeekEnding_Date to datatime and the other columns to float."
   ]
  },
  {
   "cell_type": "code",
   "execution_count": 15,
   "id": "abee7b91",
   "metadata": {},
   "outputs": [],
   "source": [
    "tea_df['WeekEnding_Date'] = pd.to_datetime(tea_df['WeekEnding_Date'],infer_datetime_format=True)"
   ]
  },
  {
   "cell_type": "code",
   "execution_count": 16,
   "id": "cc74eb4b",
   "metadata": {},
   "outputs": [
    {
     "data": {
      "text/plain": [
       "0     2009-03-01\n",
       "1     2009-10-01\n",
       "2     2009-01-17\n",
       "3     2009-01-24\n",
       "4     2009-01-31\n",
       "         ...    \n",
       "539   2019-11-05\n",
       "540   2019-05-18\n",
       "541   2019-05-25\n",
       "542   2019-01-06\n",
       "543   2019-08-06\n",
       "Name: WeekEnding_Date, Length: 544, dtype: datetime64[ns]"
      ]
     },
     "execution_count": 16,
     "metadata": {},
     "output_type": "execute_result"
    }
   ],
   "source": [
    "tea_df.WeekEnding_Date"
   ]
  },
  {
   "cell_type": "markdown",
   "id": "ba1f7ef6",
   "metadata": {},
   "source": [
    "#### After modifying the WeekEnding_Date feature, it is now represented in the format: YYYY-MM-DD"
   ]
  },
  {
   "cell_type": "code",
   "execution_count": 17,
   "id": "5cb8faa9",
   "metadata": {},
   "outputs": [
    {
     "name": "stdout",
     "output_type": "stream",
     "text": [
      "<class 'pandas.core.frame.DataFrame'>\n",
      "RangeIndex: 544 entries, 0 to 543\n",
      "Data columns (total 16 columns):\n",
      " #   Column                    Non-Null Count  Dtype         \n",
      "---  ------                    --------------  -----         \n",
      " 0   WeekEnding_Date           544 non-null    datetime64[ns]\n",
      " 1   Kolkata_Average_Price     544 non-null    object        \n",
      " 2   Kolkata_Ref_Price         544 non-null    object        \n",
      " 3   Bangalore_Average_Price   544 non-null    object        \n",
      " 4   Bangalore_Ref_Price       544 non-null    object        \n",
      " 5   Cochin_Average_Price      544 non-null    object        \n",
      " 6   Cochin_Ref_Price          544 non-null    object        \n",
      " 7   Darjeeling_Average_Price  544 non-null    object        \n",
      " 8   Darjeeling_Ref_Price      544 non-null    object        \n",
      " 9   Ernakulam_Average_Price   544 non-null    object        \n",
      " 10  Ernakulam_Ref_Price       544 non-null    object        \n",
      " 11  Siliguri_Average_Price    544 non-null    object        \n",
      " 12  Siliguri_Ref_Price        544 non-null    object        \n",
      " 13  Guwahati_Average_Price    544 non-null    object        \n",
      " 14  Guwahati_Ref_Price        544 non-null    object        \n",
      " 15  Average                   544 non-null    float64       \n",
      "dtypes: datetime64[ns](1), float64(1), object(14)\n",
      "memory usage: 68.1+ KB\n"
     ]
    }
   ],
   "source": [
    "tea_df.info()"
   ]
  },
  {
   "cell_type": "markdown",
   "id": "aa6d4a48",
   "metadata": {},
   "source": [
    "#### The other columns still have to be converted to float values. "
   ]
  },
  {
   "cell_type": "code",
   "execution_count": 18,
   "id": "3dc63ef6",
   "metadata": {},
   "outputs": [
    {
     "data": {
      "text/html": [
       "<div>\n",
       "<style scoped>\n",
       "    .dataframe tbody tr th:only-of-type {\n",
       "        vertical-align: middle;\n",
       "    }\n",
       "\n",
       "    .dataframe tbody tr th {\n",
       "        vertical-align: top;\n",
       "    }\n",
       "\n",
       "    .dataframe thead th {\n",
       "        text-align: right;\n",
       "    }\n",
       "</style>\n",
       "<table border=\"1\" class=\"dataframe\">\n",
       "  <thead>\n",
       "    <tr style=\"text-align: right;\">\n",
       "      <th></th>\n",
       "      <th>WeekEnding_Date</th>\n",
       "      <th>Kolkata_Average_Price</th>\n",
       "      <th>Kolkata_Ref_Price</th>\n",
       "      <th>Bangalore_Average_Price</th>\n",
       "      <th>Bangalore_Ref_Price</th>\n",
       "      <th>Cochin_Average_Price</th>\n",
       "      <th>Cochin_Ref_Price</th>\n",
       "      <th>Darjeeling_Average_Price</th>\n",
       "      <th>Darjeeling_Ref_Price</th>\n",
       "      <th>Ernakulam_Average_Price</th>\n",
       "      <th>Ernakulam_Ref_Price</th>\n",
       "      <th>Siliguri_Average_Price</th>\n",
       "      <th>Siliguri_Ref_Price</th>\n",
       "      <th>Guwahati_Average_Price</th>\n",
       "      <th>Guwahati_Ref_Price</th>\n",
       "      <th>Average</th>\n",
       "    </tr>\n",
       "  </thead>\n",
       "  <tbody>\n",
       "    <tr>\n",
       "      <th>0</th>\n",
       "      <td>2009-03-01</td>\n",
       "      <td>99.01</td>\n",
       "      <td>79.79</td>\n",
       "      <td>0.0</td>\n",
       "      <td>76.19</td>\n",
       "      <td>84.02</td>\n",
       "      <td>70.07</td>\n",
       "      <td>81.66</td>\n",
       "      <td>57.83</td>\n",
       "      <td>68.94</td>\n",
       "      <td>51.67</td>\n",
       "      <td>70.74</td>\n",
       "      <td>53.88</td>\n",
       "      <td>65.55</td>\n",
       "      <td>46.75</td>\n",
       "      <td>69.700000</td>\n",
       "    </tr>\n",
       "    <tr>\n",
       "      <th>1</th>\n",
       "      <td>2009-10-01</td>\n",
       "      <td>97.74</td>\n",
       "      <td>78.73</td>\n",
       "      <td>87.48</td>\n",
       "      <td>73.97</td>\n",
       "      <td>82.72</td>\n",
       "      <td>68.17</td>\n",
       "      <td>83.31</td>\n",
       "      <td>58.02</td>\n",
       "      <td>67.24</td>\n",
       "      <td>52.23</td>\n",
       "      <td>70.47</td>\n",
       "      <td>53.39</td>\n",
       "      <td>67.39</td>\n",
       "      <td>46.84</td>\n",
       "      <td>70.550000</td>\n",
       "    </tr>\n",
       "    <tr>\n",
       "      <th>2</th>\n",
       "      <td>2009-01-17</td>\n",
       "      <td>95.95</td>\n",
       "      <td>71.01</td>\n",
       "      <td>87.66</td>\n",
       "      <td>71.01</td>\n",
       "      <td>80.58</td>\n",
       "      <td>67.16</td>\n",
       "      <td>82.25</td>\n",
       "      <td>57.49</td>\n",
       "      <td>69.64</td>\n",
       "      <td>52.48</td>\n",
       "      <td>71.66</td>\n",
       "      <td>53.18</td>\n",
       "      <td>69.51</td>\n",
       "      <td>48.04</td>\n",
       "      <td>69.830000</td>\n",
       "    </tr>\n",
       "    <tr>\n",
       "      <th>3</th>\n",
       "      <td>2009-01-24</td>\n",
       "      <td>94.14</td>\n",
       "      <td>73.38</td>\n",
       "      <td>85.69</td>\n",
       "      <td>65.66</td>\n",
       "      <td>0.0</td>\n",
       "      <td>65.57</td>\n",
       "      <td>80.87</td>\n",
       "      <td>54.59</td>\n",
       "      <td>0.0</td>\n",
       "      <td>53.43</td>\n",
       "      <td>71.12</td>\n",
       "      <td>52.07</td>\n",
       "      <td>69.14</td>\n",
       "      <td>48.5</td>\n",
       "      <td>67.846667</td>\n",
       "    </tr>\n",
       "    <tr>\n",
       "      <th>4</th>\n",
       "      <td>2009-01-31</td>\n",
       "      <td>91.45</td>\n",
       "      <td>70.39</td>\n",
       "      <td>0.0</td>\n",
       "      <td>64.99</td>\n",
       "      <td>79.27</td>\n",
       "      <td>62.09</td>\n",
       "      <td>80.76</td>\n",
       "      <td>57.06</td>\n",
       "      <td>69.65</td>\n",
       "      <td>53.38</td>\n",
       "      <td>72.3</td>\n",
       "      <td>52.5</td>\n",
       "      <td>69.39</td>\n",
       "      <td>50.33</td>\n",
       "      <td>67.196923</td>\n",
       "    </tr>\n",
       "  </tbody>\n",
       "</table>\n",
       "</div>"
      ],
      "text/plain": [
       "  WeekEnding_Date Kolkata_Average_Price Kolkata_Ref_Price  \\\n",
       "0      2009-03-01                 99.01             79.79   \n",
       "1      2009-10-01                 97.74             78.73   \n",
       "2      2009-01-17                 95.95             71.01   \n",
       "3      2009-01-24                 94.14             73.38   \n",
       "4      2009-01-31                 91.45             70.39   \n",
       "\n",
       "  Bangalore_Average_Price Bangalore_Ref_Price Cochin_Average_Price  \\\n",
       "0                     0.0               76.19                84.02   \n",
       "1                   87.48               73.97                82.72   \n",
       "2                   87.66               71.01                80.58   \n",
       "3                   85.69               65.66                  0.0   \n",
       "4                     0.0               64.99                79.27   \n",
       "\n",
       "  Cochin_Ref_Price Darjeeling_Average_Price Darjeeling_Ref_Price  \\\n",
       "0            70.07                    81.66                57.83   \n",
       "1            68.17                    83.31                58.02   \n",
       "2            67.16                    82.25                57.49   \n",
       "3            65.57                    80.87                54.59   \n",
       "4            62.09                    80.76                57.06   \n",
       "\n",
       "  Ernakulam_Average_Price Ernakulam_Ref_Price Siliguri_Average_Price  \\\n",
       "0                   68.94               51.67                  70.74   \n",
       "1                   67.24               52.23                  70.47   \n",
       "2                   69.64               52.48                  71.66   \n",
       "3                     0.0               53.43                  71.12   \n",
       "4                   69.65               53.38                   72.3   \n",
       "\n",
       "  Siliguri_Ref_Price Guwahati_Average_Price Guwahati_Ref_Price    Average  \n",
       "0              53.88                  65.55              46.75  69.700000  \n",
       "1              53.39                  67.39              46.84  70.550000  \n",
       "2              53.18                  69.51              48.04  69.830000  \n",
       "3              52.07                  69.14               48.5  67.846667  \n",
       "4               52.5                  69.39              50.33  67.196923  "
      ]
     },
     "execution_count": 18,
     "metadata": {},
     "output_type": "execute_result"
    }
   ],
   "source": [
    "tea_df.head()"
   ]
  },
  {
   "cell_type": "code",
   "execution_count": 19,
   "id": "a8cc70e9",
   "metadata": {},
   "outputs": [],
   "source": [
    "for col in numeric_columns:\n",
    "    tea_df[[col]] = tea_df[[col]].astype(float)"
   ]
  },
  {
   "cell_type": "code",
   "execution_count": 20,
   "id": "271bb3fb",
   "metadata": {},
   "outputs": [
    {
     "data": {
      "text/plain": [
       "WeekEnding_Date             datetime64[ns]\n",
       "Kolkata_Average_Price              float64\n",
       "Kolkata_Ref_Price                  float64\n",
       "Bangalore_Average_Price            float64\n",
       "Bangalore_Ref_Price                float64\n",
       "Cochin_Average_Price               float64\n",
       "Cochin_Ref_Price                   float64\n",
       "Darjeeling_Average_Price           float64\n",
       "Darjeeling_Ref_Price               float64\n",
       "Ernakulam_Average_Price            float64\n",
       "Ernakulam_Ref_Price                float64\n",
       "Siliguri_Average_Price             float64\n",
       "Siliguri_Ref_Price                 float64\n",
       "Guwahati_Average_Price             float64\n",
       "Guwahati_Ref_Price                 float64\n",
       "Average                            float64\n",
       "dtype: object"
      ]
     },
     "execution_count": 20,
     "metadata": {},
     "output_type": "execute_result"
    }
   ],
   "source": [
    "tea_df.dtypes"
   ]
  },
  {
   "cell_type": "code",
   "execution_count": null,
   "id": "0ddc0d05",
   "metadata": {},
   "outputs": [],
   "source": []
  }
 ],
 "metadata": {
  "kernelspec": {
   "display_name": "Python 3",
   "language": "python",
   "name": "python3"
  },
  "language_info": {
   "codemirror_mode": {
    "name": "ipython",
    "version": 3
   },
   "file_extension": ".py",
   "mimetype": "text/x-python",
   "name": "python",
   "nbconvert_exporter": "python",
   "pygments_lexer": "ipython3",
   "version": "3.7.10"
  }
 },
 "nbformat": 4,
 "nbformat_minor": 5
}
