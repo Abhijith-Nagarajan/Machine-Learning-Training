{
 "cells": [
  {
   "cell_type": "code",
   "execution_count": 1,
   "id": "6d5fcf2a",
   "metadata": {
    "_cell_guid": "b1076dfc-b9ad-4769-8c92-a6c4dae69d19",
    "_uuid": "8f2839f25d086af736a60e9eeb907d3b93b6e0e5",
    "execution": {
     "iopub.execute_input": "2023-10-15T04:48:44.610376Z",
     "iopub.status.busy": "2023-10-15T04:48:44.609986Z",
     "iopub.status.idle": "2023-10-15T04:48:46.463653Z",
     "shell.execute_reply": "2023-10-15T04:48:46.462571Z"
    },
    "papermill": {
     "duration": 1.863622,
     "end_time": "2023-10-15T04:48:46.466081",
     "exception": false,
     "start_time": "2023-10-15T04:48:44.602459",
     "status": "completed"
    },
    "tags": []
   },
   "outputs": [
    {
     "name": "stdout",
     "output_type": "stream",
     "text": [
      "/kaggle/input/ts-temp-1/MLTempDataset.csv\n",
      "/kaggle/input/ts-temp-1/MLTempDataset1.csv\n"
     ]
    }
   ],
   "source": [
    "import numpy as np \n",
    "import pandas as pd\n",
    "import matplotlib.pyplot as plt\n",
    "from statsmodels.tsa.stattools import adfuller, kpss\n",
    "\n",
    "import os\n",
    "for dirname, _, filenames in os.walk('/kaggle/input'):\n",
    "    for filename in filenames:\n",
    "        print(os.path.join(dirname, filename))"
   ]
  },
  {
   "cell_type": "code",
   "execution_count": 2,
   "id": "2db1d70c",
   "metadata": {
    "execution": {
     "iopub.execute_input": "2023-10-15T04:48:46.479244Z",
     "iopub.status.busy": "2023-10-15T04:48:46.478377Z",
     "iopub.status.idle": "2023-10-15T04:48:46.508946Z",
     "shell.execute_reply": "2023-10-15T04:48:46.508010Z"
    },
    "papermill": {
     "duration": 0.03992,
     "end_time": "2023-10-15T04:48:46.511505",
     "exception": false,
     "start_time": "2023-10-15T04:48:46.471585",
     "status": "completed"
    },
    "tags": []
   },
   "outputs": [],
   "source": [
    "df = pd.read_csv('/kaggle/input/ts-temp-1/MLTempDataset.csv')"
   ]
  },
  {
   "cell_type": "code",
   "execution_count": 3,
   "id": "e283c447",
   "metadata": {
    "execution": {
     "iopub.execute_input": "2023-10-15T04:48:46.523872Z",
     "iopub.status.busy": "2023-10-15T04:48:46.523508Z",
     "iopub.status.idle": "2023-10-15T04:48:46.545062Z",
     "shell.execute_reply": "2023-10-15T04:48:46.544235Z"
    },
    "papermill": {
     "duration": 0.030506,
     "end_time": "2023-10-15T04:48:46.547518",
     "exception": false,
     "start_time": "2023-10-15T04:48:46.517012",
     "status": "completed"
    },
    "tags": []
   },
   "outputs": [
    {
     "data": {
      "text/html": [
       "<div>\n",
       "<style scoped>\n",
       "    .dataframe tbody tr th:only-of-type {\n",
       "        vertical-align: middle;\n",
       "    }\n",
       "\n",
       "    .dataframe tbody tr th {\n",
       "        vertical-align: top;\n",
       "    }\n",
       "\n",
       "    .dataframe thead th {\n",
       "        text-align: right;\n",
       "    }\n",
       "</style>\n",
       "<table border=\"1\" class=\"dataframe\">\n",
       "  <thead>\n",
       "    <tr style=\"text-align: right;\">\n",
       "      <th></th>\n",
       "      <th>Unnamed: 0</th>\n",
       "      <th>Datetime1</th>\n",
       "      <th>DAYTON_MW</th>\n",
       "      <th>Datetime</th>\n",
       "    </tr>\n",
       "  </thead>\n",
       "  <tbody>\n",
       "    <tr>\n",
       "      <th>0</th>\n",
       "      <td>0</td>\n",
       "      <td>0</td>\n",
       "      <td>20.867</td>\n",
       "      <td>2022-01-04 00:00:00</td>\n",
       "    </tr>\n",
       "    <tr>\n",
       "      <th>1</th>\n",
       "      <td>1</td>\n",
       "      <td>1</td>\n",
       "      <td>21.000</td>\n",
       "      <td>2022-01-04 01:00:00</td>\n",
       "    </tr>\n",
       "    <tr>\n",
       "      <th>2</th>\n",
       "      <td>2</td>\n",
       "      <td>2</td>\n",
       "      <td>20.867</td>\n",
       "      <td>2022-01-04 02:00:00</td>\n",
       "    </tr>\n",
       "    <tr>\n",
       "      <th>3</th>\n",
       "      <td>3</td>\n",
       "      <td>3</td>\n",
       "      <td>20.650</td>\n",
       "      <td>2022-01-04 03:00:00</td>\n",
       "    </tr>\n",
       "    <tr>\n",
       "      <th>4</th>\n",
       "      <td>4</td>\n",
       "      <td>4</td>\n",
       "      <td>20.400</td>\n",
       "      <td>2022-01-04 04:00:00</td>\n",
       "    </tr>\n",
       "  </tbody>\n",
       "</table>\n",
       "</div>"
      ],
      "text/plain": [
       "   Unnamed: 0  Datetime1  DAYTON_MW             Datetime\n",
       "0           0          0     20.867  2022-01-04 00:00:00\n",
       "1           1          1     21.000  2022-01-04 01:00:00\n",
       "2           2          2     20.867  2022-01-04 02:00:00\n",
       "3           3          3     20.650  2022-01-04 03:00:00\n",
       "4           4          4     20.400  2022-01-04 04:00:00"
      ]
     },
     "execution_count": 3,
     "metadata": {},
     "output_type": "execute_result"
    }
   ],
   "source": [
    "df.head()"
   ]
  },
  {
   "cell_type": "code",
   "execution_count": 4,
   "id": "02241324",
   "metadata": {
    "execution": {
     "iopub.execute_input": "2023-10-15T04:48:46.561004Z",
     "iopub.status.busy": "2023-10-15T04:48:46.560400Z",
     "iopub.status.idle": "2023-10-15T04:48:46.589388Z",
     "shell.execute_reply": "2023-10-15T04:48:46.588093Z"
    },
    "papermill": {
     "duration": 0.038274,
     "end_time": "2023-10-15T04:48:46.591764",
     "exception": false,
     "start_time": "2023-10-15T04:48:46.553490",
     "status": "completed"
    },
    "tags": []
   },
   "outputs": [
    {
     "name": "stdout",
     "output_type": "stream",
     "text": [
      "<class 'pandas.core.frame.DataFrame'>\n",
      "RangeIndex: 6676 entries, 0 to 6675\n",
      "Data columns (total 4 columns):\n",
      " #   Column      Non-Null Count  Dtype  \n",
      "---  ------      --------------  -----  \n",
      " 0   Unnamed: 0  6676 non-null   int64  \n",
      " 1   Datetime1   6676 non-null   int64  \n",
      " 2   DAYTON_MW   6676 non-null   float64\n",
      " 3   Datetime    6676 non-null   object \n",
      "dtypes: float64(1), int64(2), object(1)\n",
      "memory usage: 208.8+ KB\n"
     ]
    }
   ],
   "source": [
    "df.info()"
   ]
  },
  {
   "cell_type": "code",
   "execution_count": 5,
   "id": "38b158cb",
   "metadata": {
    "execution": {
     "iopub.execute_input": "2023-10-15T04:48:46.604550Z",
     "iopub.status.busy": "2023-10-15T04:48:46.603919Z",
     "iopub.status.idle": "2023-10-15T04:48:46.626724Z",
     "shell.execute_reply": "2023-10-15T04:48:46.625349Z"
    },
    "papermill": {
     "duration": 0.031773,
     "end_time": "2023-10-15T04:48:46.628985",
     "exception": false,
     "start_time": "2023-10-15T04:48:46.597212",
     "status": "completed"
    },
    "tags": []
   },
   "outputs": [
    {
     "data": {
      "text/html": [
       "<div>\n",
       "<style scoped>\n",
       "    .dataframe tbody tr th:only-of-type {\n",
       "        vertical-align: middle;\n",
       "    }\n",
       "\n",
       "    .dataframe tbody tr th {\n",
       "        vertical-align: top;\n",
       "    }\n",
       "\n",
       "    .dataframe thead th {\n",
       "        text-align: right;\n",
       "    }\n",
       "</style>\n",
       "<table border=\"1\" class=\"dataframe\">\n",
       "  <thead>\n",
       "    <tr style=\"text-align: right;\">\n",
       "      <th></th>\n",
       "      <th>Unnamed: 0</th>\n",
       "      <th>Datetime1</th>\n",
       "      <th>DAYTON_MW</th>\n",
       "    </tr>\n",
       "  </thead>\n",
       "  <tbody>\n",
       "    <tr>\n",
       "      <th>count</th>\n",
       "      <td>6676.000000</td>\n",
       "      <td>6676.000000</td>\n",
       "      <td>6676.000000</td>\n",
       "    </tr>\n",
       "    <tr>\n",
       "      <th>mean</th>\n",
       "      <td>3337.500000</td>\n",
       "      <td>11.502846</td>\n",
       "      <td>21.736007</td>\n",
       "    </tr>\n",
       "    <tr>\n",
       "      <th>std</th>\n",
       "      <td>1927.339531</td>\n",
       "      <td>6.909701</td>\n",
       "      <td>6.850502</td>\n",
       "    </tr>\n",
       "    <tr>\n",
       "      <th>min</th>\n",
       "      <td>0.000000</td>\n",
       "      <td>0.000000</td>\n",
       "      <td>5.350000</td>\n",
       "    </tr>\n",
       "    <tr>\n",
       "      <th>25%</th>\n",
       "      <td>1668.750000</td>\n",
       "      <td>6.000000</td>\n",
       "      <td>17.512750</td>\n",
       "    </tr>\n",
       "    <tr>\n",
       "      <th>50%</th>\n",
       "      <td>3337.500000</td>\n",
       "      <td>11.000000</td>\n",
       "      <td>23.900000</td>\n",
       "    </tr>\n",
       "    <tr>\n",
       "      <th>75%</th>\n",
       "      <td>5006.250000</td>\n",
       "      <td>17.000000</td>\n",
       "      <td>26.367000</td>\n",
       "    </tr>\n",
       "    <tr>\n",
       "      <th>max</th>\n",
       "      <td>6675.000000</td>\n",
       "      <td>23.000000</td>\n",
       "      <td>36.500000</td>\n",
       "    </tr>\n",
       "  </tbody>\n",
       "</table>\n",
       "</div>"
      ],
      "text/plain": [
       "        Unnamed: 0    Datetime1    DAYTON_MW\n",
       "count  6676.000000  6676.000000  6676.000000\n",
       "mean   3337.500000    11.502846    21.736007\n",
       "std    1927.339531     6.909701     6.850502\n",
       "min       0.000000     0.000000     5.350000\n",
       "25%    1668.750000     6.000000    17.512750\n",
       "50%    3337.500000    11.000000    23.900000\n",
       "75%    5006.250000    17.000000    26.367000\n",
       "max    6675.000000    23.000000    36.500000"
      ]
     },
     "execution_count": 5,
     "metadata": {},
     "output_type": "execute_result"
    }
   ],
   "source": [
    "df.describe()"
   ]
  },
  {
   "cell_type": "code",
   "execution_count": 6,
   "id": "abf23603",
   "metadata": {
    "execution": {
     "iopub.execute_input": "2023-10-15T04:48:46.642351Z",
     "iopub.status.busy": "2023-10-15T04:48:46.641980Z",
     "iopub.status.idle": "2023-10-15T04:48:46.652671Z",
     "shell.execute_reply": "2023-10-15T04:48:46.651662Z"
    },
    "papermill": {
     "duration": 0.020746,
     "end_time": "2023-10-15T04:48:46.655619",
     "exception": false,
     "start_time": "2023-10-15T04:48:46.634873",
     "status": "completed"
    },
    "tags": []
   },
   "outputs": [],
   "source": [
    "df_new = df.drop(['Unnamed: 0','Datetime1'],axis=1)"
   ]
  },
  {
   "cell_type": "code",
   "execution_count": 7,
   "id": "312e5530",
   "metadata": {
    "execution": {
     "iopub.execute_input": "2023-10-15T04:48:46.668595Z",
     "iopub.status.busy": "2023-10-15T04:48:46.668264Z",
     "iopub.status.idle": "2023-10-15T04:48:46.680596Z",
     "shell.execute_reply": "2023-10-15T04:48:46.679335Z"
    },
    "papermill": {
     "duration": 0.021339,
     "end_time": "2023-10-15T04:48:46.682763",
     "exception": false,
     "start_time": "2023-10-15T04:48:46.661424",
     "status": "completed"
    },
    "tags": []
   },
   "outputs": [],
   "source": [
    "df_new.Datetime = pd.to_datetime(df_new.Datetime,format='%Y-%m-%d %H:%M:%S')"
   ]
  },
  {
   "cell_type": "code",
   "execution_count": 8,
   "id": "384119d8",
   "metadata": {
    "execution": {
     "iopub.execute_input": "2023-10-15T04:48:46.695656Z",
     "iopub.status.busy": "2023-10-15T04:48:46.695261Z",
     "iopub.status.idle": "2023-10-15T04:48:46.701198Z",
     "shell.execute_reply": "2023-10-15T04:48:46.700272Z"
    },
    "papermill": {
     "duration": 0.014942,
     "end_time": "2023-10-15T04:48:46.703393",
     "exception": false,
     "start_time": "2023-10-15T04:48:46.688451",
     "status": "completed"
    },
    "tags": []
   },
   "outputs": [],
   "source": [
    "df_new.index = df_new.Datetime\n",
    "df_new = df_new.drop(['Datetime'],axis=1)"
   ]
  },
  {
   "cell_type": "code",
   "execution_count": 9,
   "id": "68ff0f31",
   "metadata": {
    "execution": {
     "iopub.execute_input": "2023-10-15T04:48:46.716777Z",
     "iopub.status.busy": "2023-10-15T04:48:46.715858Z",
     "iopub.status.idle": "2023-10-15T04:48:46.725311Z",
     "shell.execute_reply": "2023-10-15T04:48:46.724506Z"
    },
    "papermill": {
     "duration": 0.018635,
     "end_time": "2023-10-15T04:48:46.727648",
     "exception": false,
     "start_time": "2023-10-15T04:48:46.709013",
     "status": "completed"
    },
    "tags": []
   },
   "outputs": [
    {
     "data": {
      "text/html": [
       "<div>\n",
       "<style scoped>\n",
       "    .dataframe tbody tr th:only-of-type {\n",
       "        vertical-align: middle;\n",
       "    }\n",
       "\n",
       "    .dataframe tbody tr th {\n",
       "        vertical-align: top;\n",
       "    }\n",
       "\n",
       "    .dataframe thead th {\n",
       "        text-align: right;\n",
       "    }\n",
       "</style>\n",
       "<table border=\"1\" class=\"dataframe\">\n",
       "  <thead>\n",
       "    <tr style=\"text-align: right;\">\n",
       "      <th></th>\n",
       "      <th>DAYTON_MW</th>\n",
       "    </tr>\n",
       "    <tr>\n",
       "      <th>Datetime</th>\n",
       "      <th></th>\n",
       "    </tr>\n",
       "  </thead>\n",
       "  <tbody>\n",
       "    <tr>\n",
       "      <th>2022-01-04 00:00:00</th>\n",
       "      <td>20.867</td>\n",
       "    </tr>\n",
       "    <tr>\n",
       "      <th>2022-01-04 01:00:00</th>\n",
       "      <td>21.000</td>\n",
       "    </tr>\n",
       "    <tr>\n",
       "      <th>2022-01-04 02:00:00</th>\n",
       "      <td>20.867</td>\n",
       "    </tr>\n",
       "    <tr>\n",
       "      <th>2022-01-04 03:00:00</th>\n",
       "      <td>20.650</td>\n",
       "    </tr>\n",
       "    <tr>\n",
       "      <th>2022-01-04 04:00:00</th>\n",
       "      <td>20.400</td>\n",
       "    </tr>\n",
       "  </tbody>\n",
       "</table>\n",
       "</div>"
      ],
      "text/plain": [
       "                     DAYTON_MW\n",
       "Datetime                      \n",
       "2022-01-04 00:00:00     20.867\n",
       "2022-01-04 01:00:00     21.000\n",
       "2022-01-04 02:00:00     20.867\n",
       "2022-01-04 03:00:00     20.650\n",
       "2022-01-04 04:00:00     20.400"
      ]
     },
     "execution_count": 9,
     "metadata": {},
     "output_type": "execute_result"
    }
   ],
   "source": [
    "df_new.head()"
   ]
  },
  {
   "cell_type": "markdown",
   "id": "e1194737",
   "metadata": {
    "papermill": {
     "duration": 0.005397,
     "end_time": "2023-10-15T04:48:46.738927",
     "exception": false,
     "start_time": "2023-10-15T04:48:46.733530",
     "status": "completed"
    },
    "tags": []
   },
   "source": [
    "#### Testing for stationarity"
   ]
  },
  {
   "cell_type": "code",
   "execution_count": 10,
   "id": "b4357b1e",
   "metadata": {
    "execution": {
     "iopub.execute_input": "2023-10-15T04:48:46.753150Z",
     "iopub.status.busy": "2023-10-15T04:48:46.752737Z",
     "iopub.status.idle": "2023-10-15T04:48:47.366873Z",
     "shell.execute_reply": "2023-10-15T04:48:47.365741Z"
    },
    "papermill": {
     "duration": 0.624308,
     "end_time": "2023-10-15T04:48:47.369356",
     "exception": false,
     "start_time": "2023-10-15T04:48:46.745048",
     "status": "completed"
    },
    "tags": []
   },
   "outputs": [
    {
     "data": {
      "text/plain": [
       "<Axes: xlabel='Datetime'>"
      ]
     },
     "execution_count": 10,
     "metadata": {},
     "output_type": "execute_result"
    },
    {
     "data": {
      "image/png": "[encoded data removed]",
      "text/plain": [
       "<Figure size 640x480 with 1 Axes>"
      ]
     },
     "metadata": {},
     "output_type": "display_data"
    }
   ],
   "source": [
    "df_new.DAYTON_MW.plot()"
   ]
  },
  {
   "cell_type": "markdown",
   "id": "82f8148d",
   "metadata": {
    "papermill": {
     "duration": 0.006455,
     "end_time": "2023-10-15T04:48:47.382635",
     "exception": false,
     "start_time": "2023-10-15T04:48:47.376180",
     "status": "completed"
    },
    "tags": []
   },
   "source": [
    "<h3> Performing ADF and KPSS tests </h3>"
   ]
  },
  {
   "cell_type": "markdown",
   "id": "d434b6cb",
   "metadata": {
    "papermill": {
     "duration": 0.006426,
     "end_time": "2023-10-15T04:48:47.396011",
     "exception": false,
     "start_time": "2023-10-15T04:48:47.389585",
     "status": "completed"
    },
    "tags": []
   },
   "source": [
    "<h4> Starting with the ADF test </h4>"
   ]
  },
  {
   "cell_type": "code",
   "execution_count": 11,
   "id": "518944b8",
   "metadata": {
    "execution": {
     "iopub.execute_input": "2023-10-15T04:48:47.412366Z",
     "iopub.status.busy": "2023-10-15T04:48:47.411183Z",
     "iopub.status.idle": "2023-10-15T04:48:48.020180Z",
     "shell.execute_reply": "2023-10-15T04:48:48.018497Z"
    },
    "papermill": {
     "duration": 0.622236,
     "end_time": "2023-10-15T04:48:48.025297",
     "exception": false,
     "start_time": "2023-10-15T04:48:47.403061",
     "status": "completed"
    },
    "tags": []
   },
   "outputs": [],
   "source": [
    "adf_test = adfuller(df_new,autolag='AIC')    "
   ]
  },
  {
   "cell_type": "code",
   "execution_count": 12,
   "id": "efedcd80",
   "metadata": {
    "execution": {
     "iopub.execute_input": "2023-10-15T04:48:48.068386Z",
     "iopub.status.busy": "2023-10-15T04:48:48.067513Z",
     "iopub.status.idle": "2023-10-15T04:48:48.077511Z",
     "shell.execute_reply": "2023-10-15T04:48:48.075583Z"
    },
    "papermill": {
     "duration": 0.038816,
     "end_time": "2023-10-15T04:48:48.084126",
     "exception": false,
     "start_time": "2023-10-15T04:48:48.045310",
     "status": "completed"
    },
    "tags": []
   },
   "outputs": [],
   "source": [
    "adf_test_results = pd.DataFrame(adf_test[:4],columns = ['Value'])\n",
    "index=['Test Statistic','P value','# lags','# Observations']"
   ]
  },
  {
   "cell_type": "code",
   "execution_count": 13,
   "id": "76d3d578",
   "metadata": {
    "execution": {
     "iopub.execute_input": "2023-10-15T04:48:48.125567Z",
     "iopub.status.busy": "2023-10-15T04:48:48.124703Z",
     "iopub.status.idle": "2023-10-15T04:48:48.139056Z",
     "shell.execute_reply": "2023-10-15T04:48:48.138333Z"
    },
    "papermill": {
     "duration": 0.037617,
     "end_time": "2023-10-15T04:48:48.141284",
     "exception": false,
     "start_time": "2023-10-15T04:48:48.103667",
     "status": "completed"
    },
    "tags": []
   },
   "outputs": [],
   "source": [
    "for key,value in adf_test[4].items():\n",
    "    #adf_test_results = pd.concat([adf_test_results,pd.DataFrame({'Value':value})],ignore_index=True)\n",
    "    adf_test_results = adf_test_results._append({'Value':value},ignore_index=True)\n",
    "    index.append(f'Critical value: {key}') "
   ]
  },
  {
   "cell_type": "code",
   "execution_count": 14,
   "id": "fbb47632",
   "metadata": {
    "execution": {
     "iopub.execute_input": "2023-10-15T04:48:48.156676Z",
     "iopub.status.busy": "2023-10-15T04:48:48.156037Z",
     "iopub.status.idle": "2023-10-15T04:48:48.160711Z",
     "shell.execute_reply": "2023-10-15T04:48:48.159563Z"
    },
    "papermill": {
     "duration": 0.01491,
     "end_time": "2023-10-15T04:48:48.162909",
     "exception": false,
     "start_time": "2023-10-15T04:48:48.147999",
     "status": "completed"
    },
    "tags": []
   },
   "outputs": [],
   "source": [
    "adf_test_results.reset_index(drop = True)\n",
    "adf_test_results.index = index"
   ]
  },
  {
   "cell_type": "code",
   "execution_count": 15,
   "id": "50fad910",
   "metadata": {
    "execution": {
     "iopub.execute_input": "2023-10-15T04:48:48.178409Z",
     "iopub.status.busy": "2023-10-15T04:48:48.178026Z",
     "iopub.status.idle": "2023-10-15T04:48:48.187603Z",
     "shell.execute_reply": "2023-10-15T04:48:48.186445Z"
    },
    "papermill": {
     "duration": 0.02012,
     "end_time": "2023-10-15T04:48:48.190061",
     "exception": false,
     "start_time": "2023-10-15T04:48:48.169941",
     "status": "completed"
    },
    "tags": []
   },
   "outputs": [
    {
     "data": {
      "text/html": [
       "<div>\n",
       "<style scoped>\n",
       "    .dataframe tbody tr th:only-of-type {\n",
       "        vertical-align: middle;\n",
       "    }\n",
       "\n",
       "    .dataframe tbody tr th {\n",
       "        vertical-align: top;\n",
       "    }\n",
       "\n",
       "    .dataframe thead th {\n",
       "        text-align: right;\n",
       "    }\n",
       "</style>\n",
       "<table border=\"1\" class=\"dataframe\">\n",
       "  <thead>\n",
       "    <tr style=\"text-align: right;\">\n",
       "      <th></th>\n",
       "      <th>Value</th>\n",
       "    </tr>\n",
       "  </thead>\n",
       "  <tbody>\n",
       "    <tr>\n",
       "      <th>Test Statistic</th>\n",
       "      <td>-9.150521e+00</td>\n",
       "    </tr>\n",
       "    <tr>\n",
       "      <th>P value</th>\n",
       "      <td>2.694363e-15</td>\n",
       "    </tr>\n",
       "    <tr>\n",
       "      <th># lags</th>\n",
       "      <td>2.500000e+01</td>\n",
       "    </tr>\n",
       "    <tr>\n",
       "      <th># Observations</th>\n",
       "      <td>6.650000e+03</td>\n",
       "    </tr>\n",
       "    <tr>\n",
       "      <th>Critical value: 1%</th>\n",
       "      <td>-3.431334e+00</td>\n",
       "    </tr>\n",
       "    <tr>\n",
       "      <th>Critical value: 5%</th>\n",
       "      <td>-2.861975e+00</td>\n",
       "    </tr>\n",
       "    <tr>\n",
       "      <th>Critical value: 10%</th>\n",
       "      <td>-2.567001e+00</td>\n",
       "    </tr>\n",
       "  </tbody>\n",
       "</table>\n",
       "</div>"
      ],
      "text/plain": [
       "                            Value\n",
       "Test Statistic      -9.150521e+00\n",
       "P value              2.694363e-15\n",
       "# lags               2.500000e+01\n",
       "# Observations       6.650000e+03\n",
       "Critical value: 1%  -3.431334e+00\n",
       "Critical value: 5%  -2.861975e+00\n",
       "Critical value: 10% -2.567001e+00"
      ]
     },
     "execution_count": 15,
     "metadata": {},
     "output_type": "execute_result"
    }
   ],
   "source": [
    "adf_test_results"
   ]
  },
  {
   "cell_type": "markdown",
   "id": "84e7a470",
   "metadata": {
    "papermill": {
     "duration": 0.006484,
     "end_time": "2023-10-15T04:48:48.203476",
     "exception": false,
     "start_time": "2023-10-15T04:48:48.196992",
     "status": "completed"
    },
    "tags": []
   },
   "source": [
    "<p><b><h4>Interpretation of the Augmented Dickey Fuller test:</h4></b><br>\n",
    "    <li>The null hypothesis, H0, states that the data is not stationary.</li>\n",
    "    <li>The alternate hypothesis, Ha, states that the data is stationary.</li>\n",
    "<li>To confirm stationarity, we need to compare the Test Statistic and the critical values. If the Test Statistic is less than all the critical values, then we reject the null hypothesis and confirm that the data is stationary.</li>\n",
    "<li>In this case, the test statistic is -9.1505 and it is less than all the critical values. Hence, it can be concluded that the data is stationary.</p>\n"
   ]
  },
  {
   "cell_type": "markdown",
   "id": "c9285fe6",
   "metadata": {
    "papermill": {
     "duration": 0.006392,
     "end_time": "2023-10-15T04:48:48.216821",
     "exception": false,
     "start_time": "2023-10-15T04:48:48.210429",
     "status": "completed"
    },
    "tags": []
   },
   "source": [
    "<h4> Performing KPSS test </h4>"
   ]
  },
  {
   "cell_type": "code",
   "execution_count": 16,
   "id": "00f28c21",
   "metadata": {
    "execution": {
     "iopub.execute_input": "2023-10-15T04:48:48.231981Z",
     "iopub.status.busy": "2023-10-15T04:48:48.231571Z",
     "iopub.status.idle": "2023-10-15T04:48:48.237444Z",
     "shell.execute_reply": "2023-10-15T04:48:48.236664Z"
    },
    "papermill": {
     "duration": 0.015889,
     "end_time": "2023-10-15T04:48:48.239403",
     "exception": false,
     "start_time": "2023-10-15T04:48:48.223514",
     "status": "completed"
    },
    "tags": []
   },
   "outputs": [],
   "source": [
    "kpss_test = kpss(df_new,regression='c')\n",
    "kpss_test_output = pd.DataFrame(kpss_test[0:3],columns=['Value'])\n",
    "index = ['Test Statistic','P value','# lags']"
   ]
  },
  {
   "cell_type": "code",
   "execution_count": 17,
   "id": "1e7f574a",
   "metadata": {
    "execution": {
     "iopub.execute_input": "2023-10-15T04:48:48.255443Z",
     "iopub.status.busy": "2023-10-15T04:48:48.254458Z",
     "iopub.status.idle": "2023-10-15T04:48:48.264395Z",
     "shell.execute_reply": "2023-10-15T04:48:48.263244Z"
    },
    "papermill": {
     "duration": 0.020299,
     "end_time": "2023-10-15T04:48:48.266723",
     "exception": false,
     "start_time": "2023-10-15T04:48:48.246424",
     "status": "completed"
    },
    "tags": []
   },
   "outputs": [],
   "source": [
    "for key,value in kpss_test[3].items():\n",
    "    kpss_test_output = kpss_test_output._append({'Value':value},ignore_index=True)\n",
    "    index.append(f'Critical value: {key}')\n",
    "\n",
    "kpss_test_output.index = index"
   ]
  },
  {
   "cell_type": "code",
   "execution_count": 18,
   "id": "e9120e28",
   "metadata": {
    "execution": {
     "iopub.execute_input": "2023-10-15T04:48:48.282479Z",
     "iopub.status.busy": "2023-10-15T04:48:48.282122Z",
     "iopub.status.idle": "2023-10-15T04:48:48.291033Z",
     "shell.execute_reply": "2023-10-15T04:48:48.290020Z"
    },
    "papermill": {
     "duration": 0.019244,
     "end_time": "2023-10-15T04:48:48.293031",
     "exception": false,
     "start_time": "2023-10-15T04:48:48.273787",
     "status": "completed"
    },
    "tags": []
   },
   "outputs": [
    {
     "data": {
      "text/html": [
       "<div>\n",
       "<style scoped>\n",
       "    .dataframe tbody tr th:only-of-type {\n",
       "        vertical-align: middle;\n",
       "    }\n",
       "\n",
       "    .dataframe tbody tr th {\n",
       "        vertical-align: top;\n",
       "    }\n",
       "\n",
       "    .dataframe thead th {\n",
       "        text-align: right;\n",
       "    }\n",
       "</style>\n",
       "<table border=\"1\" class=\"dataframe\">\n",
       "  <thead>\n",
       "    <tr style=\"text-align: right;\">\n",
       "      <th></th>\n",
       "      <th>Value</th>\n",
       "    </tr>\n",
       "  </thead>\n",
       "  <tbody>\n",
       "    <tr>\n",
       "      <th>Test Statistic</th>\n",
       "      <td>0.695153</td>\n",
       "    </tr>\n",
       "    <tr>\n",
       "      <th>P value</th>\n",
       "      <td>0.013986</td>\n",
       "    </tr>\n",
       "    <tr>\n",
       "      <th># lags</th>\n",
       "      <td>46.000000</td>\n",
       "    </tr>\n",
       "    <tr>\n",
       "      <th>Critical value: 10%</th>\n",
       "      <td>0.347000</td>\n",
       "    </tr>\n",
       "    <tr>\n",
       "      <th>Critical value: 5%</th>\n",
       "      <td>0.463000</td>\n",
       "    </tr>\n",
       "    <tr>\n",
       "      <th>Critical value: 2.5%</th>\n",
       "      <td>0.574000</td>\n",
       "    </tr>\n",
       "    <tr>\n",
       "      <th>Critical value: 1%</th>\n",
       "      <td>0.739000</td>\n",
       "    </tr>\n",
       "  </tbody>\n",
       "</table>\n",
       "</div>"
      ],
      "text/plain": [
       "                          Value\n",
       "Test Statistic         0.695153\n",
       "P value                0.013986\n",
       "# lags                46.000000\n",
       "Critical value: 10%    0.347000\n",
       "Critical value: 5%     0.463000\n",
       "Critical value: 2.5%   0.574000\n",
       "Critical value: 1%     0.739000"
      ]
     },
     "execution_count": 18,
     "metadata": {},
     "output_type": "execute_result"
    }
   ],
   "source": [
    "kpss_test_output"
   ]
  },
  {
   "cell_type": "markdown",
   "id": "894a13c5",
   "metadata": {
    "papermill": {
     "duration": 0.006603,
     "end_time": "2023-10-15T04:48:48.306726",
     "exception": false,
     "start_time": "2023-10-15T04:48:48.300123",
     "status": "completed"
    },
    "tags": []
   },
   "source": [
    "<p><b><h4>Interpretation of the KPSS test:</h4></b><br>\n",
    "    <li>The null hypothesis, H0, states that the data is stationary.</li>\n",
    "    <li>The alternate hypothesis, Ha, states that the data is not stationary.</li>\n",
    "<li>To confirm stationarity, we need to compare the Test Statistic and the critical values. If the Test Statistic is less than all the critical values, then we fail to reject the null hypothesis and confirm that the data is stationary.</li>\n",
    "<li>In this case, the test statistic is 0.695153 and it is greater than most critical values. Hence, it can be concluded that the data is not stationary.</p>\n"
   ]
  },
  {
   "cell_type": "markdown",
   "id": "7734b124",
   "metadata": {
    "papermill": {
     "duration": 0.00658,
     "end_time": "2023-10-15T04:48:48.320146",
     "exception": false,
     "start_time": "2023-10-15T04:48:48.313566",
     "status": "completed"
    },
    "tags": []
   },
   "source": [
    "<p><b><h3> Stationarity test summary</h3></b><br>\n",
    "    <li> ADF test - Data is stationary </li>\n",
    "    <li> KPSS test - Data is not stationary </li><br>\n",
    "\n",
    "<b>Hence, it can be concluded that the data includes a trend component, and the removal of trend could result in stationarity. Let us proceed to remove the trend component.</b>"
   ]
  },
  {
   "cell_type": "markdown",
   "id": "aac91909",
   "metadata": {
    "papermill": {
     "duration": 0.006952,
     "end_time": "2023-10-15T04:48:48.334062",
     "exception": false,
     "start_time": "2023-10-15T04:48:48.327110",
     "status": "completed"
    },
    "tags": []
   },
   "source": [
    "#### Performing differencing"
   ]
  },
  {
   "cell_type": "code",
   "execution_count": null,
   "id": "0df78385",
   "metadata": {
    "papermill": {
     "duration": 0.006612,
     "end_time": "2023-10-15T04:48:48.347649",
     "exception": false,
     "start_time": "2023-10-15T04:48:48.341037",
     "status": "completed"
    },
    "tags": []
   },
   "outputs": [],
   "source": []
  }
 ],
 "metadata": {
  "kernelspec": {
   "display_name": "Python 3",
   "language": "python",
   "name": "python3"
  },
  "language_info": {
   "codemirror_mode": {
    "name": "ipython",
    "version": 3
   },
   "file_extension": ".py",
   "mimetype": "text/x-python",
   "name": "python",
   "nbconvert_exporter": "python",
   "pygments_lexer": "ipython3",
   "version": "3.10.12"
  },
  "papermill": {
   "default_parameters": {},
   "duration": 7.689653,
   "end_time": "2023-10-15T04:48:48.975219",
   "environment_variables": {},
   "exception": null,
   "input_path": "__notebook__.ipynb",
   "output_path": "__notebook__.ipynb",
   "parameters": {},
   "start_time": "2023-10-15T04:48:41.285566",
   "version": "2.4.0"
  }
 },
 "nbformat": 4,
 "nbformat_minor": 5
}
